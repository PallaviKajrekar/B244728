{
 "cells": [
  {
   "cell_type": "code",
   "execution_count": 13,
   "id": "137e3cf8",
   "metadata": {},
   "outputs": [
    {
     "name": "stdout",
     "output_type": "stream",
     "text": [
      "Requirement already satisfied: pandas in /opt/conda/lib/python3.9/site-packages (2.1.0)\n",
      "Requirement already satisfied: tzdata>=2022.1 in /opt/conda/lib/python3.9/site-packages (from pandas) (2023.3)\n",
      "Requirement already satisfied: pytz>=2020.1 in /opt/conda/lib/python3.9/site-packages (from pandas) (2022.4)\n",
      "Requirement already satisfied: python-dateutil>=2.8.2 in /opt/conda/lib/python3.9/site-packages (from pandas) (2.8.2)\n",
      "Requirement already satisfied: numpy>=1.22.4 in /opt/conda/lib/python3.9/site-packages (from pandas) (1.23.5)\n",
      "Requirement already satisfied: six>=1.5 in /opt/conda/lib/python3.9/site-packages (from python-dateutil>=2.8.2->pandas) (1.16.0)\n",
      "Note: you may need to restart the kernel to use updated packages.\n"
     ]
    }
   ],
   "source": [
    "#Pandas library is used for data analysis and manipulation. It helps work with structured data.\n",
    "pip install pandas\n"
   ]
  },
  {
   "cell_type": "code",
   "execution_count": 14,
   "id": "9128d66a",
   "metadata": {
    "scrolled": true
   },
   "outputs": [
    {
     "name": "stdout",
     "output_type": "stream",
     "text": [
      "Requirement already satisfied: numpy in /opt/conda/lib/python3.9/site-packages (1.23.5)\n",
      "Note: you may need to restart the kernel to use updated packages.\n"
     ]
    }
   ],
   "source": [
    "#NumPy library is used for scientific computing. It supports large multidimentionalarrays and matrices. \n",
    "pip install numpy\n"
   ]
  },
  {
   "cell_type": "code",
   "execution_count": 15,
   "id": "c83729a3",
   "metadata": {},
   "outputs": [
    {
     "name": "stdout",
     "output_type": "stream",
     "text": [
      "Requirement already satisfied: scipy in /opt/conda/lib/python3.9/site-packages (1.11.2)\n",
      "Requirement already satisfied: numpy<1.28.0,>=1.21.6 in /opt/conda/lib/python3.9/site-packages (from scipy) (1.23.5)\n",
      "Note: you may need to restart the kernel to use updated packages.\n"
     ]
    }
   ],
   "source": [
    "#SciPy library works alongside Numpy and performs statistical functions. \n",
    "pip install scipy"
   ]
  },
  {
   "cell_type": "code",
   "execution_count": 16,
   "id": "26dd2eae",
   "metadata": {},
   "outputs": [
    {
     "name": "stdout",
     "output_type": "stream",
     "text": [
      "Requirement already satisfied: xlrd in /opt/conda/lib/python3.9/site-packages (2.0.1)\n",
      "Note: you may need to restart the kernel to use updated packages.\n"
     ]
    }
   ],
   "source": [
    "#xlrd is used for reading data from Excel files.\n",
    "pip install xlrd"
   ]
  },
  {
   "cell_type": "code",
   "execution_count": 17,
   "id": "aee9cba1",
   "metadata": {},
   "outputs": [
    {
     "name": "stdout",
     "output_type": "stream",
     "text": [
      "Requirement already satisfied: statsmodels in /opt/conda/lib/python3.9/site-packages (0.14.0)\n",
      "Requirement already satisfied: packaging>=21.3 in /opt/conda/lib/python3.9/site-packages (from statsmodels) (23.1)\n",
      "Requirement already satisfied: numpy>=1.18 in /opt/conda/lib/python3.9/site-packages (from statsmodels) (1.23.5)\n",
      "Requirement already satisfied: patsy>=0.5.2 in /opt/conda/lib/python3.9/site-packages (from statsmodels) (0.5.3)\n",
      "Requirement already satisfied: pandas>=1.0 in /opt/conda/lib/python3.9/site-packages (from statsmodels) (2.1.0)\n",
      "Requirement already satisfied: scipy!=1.9.2,>=1.4 in /opt/conda/lib/python3.9/site-packages (from statsmodels) (1.11.2)\n",
      "Requirement already satisfied: pytz>=2020.1 in /opt/conda/lib/python3.9/site-packages (from pandas>=1.0->statsmodels) (2022.4)\n",
      "Requirement already satisfied: python-dateutil>=2.8.2 in /opt/conda/lib/python3.9/site-packages (from pandas>=1.0->statsmodels) (2.8.2)\n",
      "Requirement already satisfied: tzdata>=2022.1 in /opt/conda/lib/python3.9/site-packages (from pandas>=1.0->statsmodels) (2023.3)\n",
      "Requirement already satisfied: six in /opt/conda/lib/python3.9/site-packages (from patsy>=0.5.2->statsmodels) (1.16.0)\n",
      "Note: you may need to restart the kernel to use updated packages.\n"
     ]
    }
   ],
   "source": [
    "#Used for estimating and interpreting various statistical models, including regression analysis and hypothesis testing\n",
    "pip install statsmodels"
   ]
  },
  {
   "cell_type": "code",
   "execution_count": 18,
   "id": "40f7db6d",
   "metadata": {},
   "outputs": [
    {
     "name": "stdout",
     "output_type": "stream",
     "text": [
      "        Biomarker  IL-8  VEGF-A    OPG  TGF-beta-1  IL-6  CXCL9  CXCL1  IL-18  \\\n",
      "0      126-0weeks  7.63   11.51  10.20        8.83  3.52   6.16   9.45   7.91   \n",
      "1      126-6weeks  7.12   11.59  10.41        8.87  3.89   6.12   9.06   7.92   \n",
      "2      127-0weeks  6.93   10.92  10.30        6.59  2.73   6.14   7.31   7.95   \n",
      "3      127-6weeks  7.16   11.58  10.39        8.61  2.60   6.35   8.61   7.94   \n",
      "4    127-12months  6.87   11.13  10.25        7.44  3.92   6.15   8.79   7.94   \n",
      "..            ...   ...     ...    ...         ...   ...    ...    ...    ...   \n",
      "342    121-6weeks  7.21   12.89  10.69        8.90  3.14   5.97   8.00   8.17   \n",
      "343  121-12months  6.35   11.01   9.96        6.70  2.55   4.68   7.34   7.76   \n",
      "344    122-0weeks  7.86   12.80  10.73        9.30  2.93   6.73   9.60   8.25   \n",
      "345    122-6weeks  8.52   13.04  10.81        8.79  2.94   6.73   9.64   8.19   \n",
      "346    124-0weeks  6.51   11.38  10.07        7.78  3.29   5.97   7.17   8.68   \n",
      "\n",
      "     CSF-1  \n",
      "0     8.41  \n",
      "1     8.39  \n",
      "2     8.40  \n",
      "3     8.51  \n",
      "4     8.46  \n",
      "..     ...  \n",
      "342   8.42  \n",
      "343   8.11  \n",
      "344   8.60  \n",
      "345   8.64  \n",
      "346   8.55  \n",
      "\n",
      "[347 rows x 10 columns]\n",
      "     PatientID  Age  Sex (1=male, 2=female)  Smoker (1=yes, 2=no)  \\\n",
      "0            1   56                       1                     2   \n",
      "1            3   32                       1                     2   \n",
      "2            4   43                       2                     2   \n",
      "3            5   25                       2                     2   \n",
      "4            6   39                       1                     2   \n",
      "..         ...  ...                     ...                   ...   \n",
      "113        143   55                       1                     1   \n",
      "114        149   46                       2                     2   \n",
      "115        150   57                       1                     1   \n",
      "116        151   25                       2                     2   \n",
      "117        152   53                       1                     2   \n",
      "\n",
      "     VAS-at-inclusion  Vas-12months  \n",
      "0                 3.0           4.0  \n",
      "1                 7.2           0.5  \n",
      "2                 2.7           0.5  \n",
      "3                 3.0           3.9  \n",
      "4                 3.5           5.0  \n",
      "..                ...           ...  \n",
      "113               6.0           2.0  \n",
      "114               5.0           9.0  \n",
      "115               1.0           9.0  \n",
      "116               8.0           6.0  \n",
      "117               9.0           1.2  \n",
      "\n",
      "[118 rows x 6 columns]\n"
     ]
    }
   ],
   "source": [
    "#Displaying data from biomarkers and Covariates files.\n",
    "import pandas as pd\n",
    "from scipy.stats import ttest_ind\n",
    "import statsmodels.api as sm\n",
    "import statsmodels.formula.api as ols\n",
    "\n",
    "# Load the biomarkers data\n",
    "biomarkers_df = pd.read_excel('biomarkers.xlsx')\n",
    "print(biomarkers_df)\n",
    "\n",
    "#Load the Covariates Data\n",
    "covariates_df = pd.read_excel('covariates.xlsx')\n",
    "print(covariates_df)"
   ]
  },
  {
   "cell_type": "code",
   "execution_count": 19,
   "id": "223fdc9a",
   "metadata": {},
   "outputs": [
    {
     "name": "stdout",
     "output_type": "stream",
     "text": [
      "Results for IL-8:\n",
      "  t-statistic: -1.859993825255894\n",
      "  p-value: 0.06541954417603674\n",
      "Results for VEGF-A:\n",
      "  t-statistic: -1.1128682325487507\n",
      "  p-value: 0.26806589978951945\n",
      "Results for OPG:\n",
      "  t-statistic: -0.9593294997104114\n",
      "  p-value: 0.3393880721603626\n",
      "Results for TGF-beta-1:\n",
      "  t-statistic: -0.19354594439339007\n",
      "  p-value: 0.8468699267439841\n",
      "Results for IL-6:\n",
      "  t-statistic: -1.9552114359229198\n",
      "  p-value: 0.05296328851072834\n",
      "Results for CXCL9:\n",
      "  t-statistic: -1.3783156197408333\n",
      "  p-value: 0.17075849575438093\n",
      "Results for CXCL1:\n",
      "  t-statistic: -0.7344907676770522\n",
      "  p-value: 0.4641318482208482\n",
      "Results for IL-18:\n",
      "  t-statistic: -0.5013007580956118\n",
      "  p-value: 0.6171094832359435\n",
      "Results for CSF-1:\n",
      "  t-statistic: -1.522903701759829\n",
      "  p-value: 0.13050432949918808\n"
     ]
    }
   ],
   "source": [
    "#Statistical Modelling : We use t-test to find out the difference between males and females for each biomarker.\n",
    "import pandas as pd\n",
    "from scipy import stats\n",
    "\n",
    "# Load the data from covariates.xlsx and biomarkers.xlsx\n",
    "covariates_data = pd.read_excel('covariates.xlsx')\n",
    "biomarkers_data = pd.read_excel('biomarkers.xlsx')\n",
    "\n",
    "# Merge the data frames using pd.concat\n",
    "merged_data = pd.concat([biomarkers_data, covariates_data], axis=1)\n",
    "\n",
    "# Defining the biomarkers we want to test\n",
    "biomarker_names = ['IL-8', 'VEGF-A', 'OPG', 'TGF-beta-1', 'IL-6', 'CXCL9', 'CXCL1', 'IL-18', 'CSF-1']\n",
    "\n",
    "# Perform t-test for each biomarker to test if levels differ between males and females\n",
    "results = {}\n",
    "for biomarker in biomarker_names:\n",
    "    male_values = merged_data[merged_data['Sex (1=male, 2=female)'] == 1][biomarker]\n",
    "    female_values = merged_data[merged_data['Sex (1=male, 2=female)'] == 2][biomarker]\n",
    "    t_stat, p_value = stats.ttest_ind(male_values, female_values)\n",
    "    results[biomarker] = {\n",
    "        't-statistic': t_stat,\n",
    "        'p-value': p_value\n",
    "    }\n",
    "\n",
    "# Display the results\n",
    "for biomarker, result in results.items():\n",
    "    print(f\"Results for {biomarker}:\")\n",
    "    print(f\"  t-statistic: {result['t-statistic']}\")\n",
    "    print(f\"  p-value: {result['p-value']}\")\n"
   ]
  },
  {
   "cell_type": "code",
   "execution_count": 15,
   "id": "fb787f5e",
   "metadata": {},
   "outputs": [
    {
     "data": {
      "image/png": "[encoded data removed]",
      "text/plain": [
       "<Figure size 1000x600 with 1 Axes>"
      ]
     },
     "metadata": {},
     "output_type": "display_data"
    }
   ],
   "source": [
    "#Plot to show difference between males and females for each biomarker \n",
    "import pandas as pd\n",
    "import numpy as np\n",
    "import matplotlib.pyplot as plt\n",
    "\n",
    "# Load the data from covariates.xlsx and Biomarkers.xlsx\n",
    "covariates_data = pd.read_excel('covariates.xlsx')\n",
    "biomarkers_data = pd.read_excel('biomarkers.xlsx')\n",
    "\n",
    "# Merge the data frames using pd.concat function\n",
    "merged_data = pd.concat([biomarkers_data, covariates_data], axis=1)\n",
    "\n",
    "# Defining the biomarkers we want to test\n",
    "biomarker_names = ['IL-8', 'VEGF-A', 'OPG', 'TGF-beta-1', 'IL-6', 'CXCL9', 'CXCL1', 'IL-18', 'CSF-1']\n",
    "\n",
    "# Initialize lists to store T-statistic values for males and females\n",
    "male_t_values = []\n",
    "female_t_values = []\n",
    "\n",
    "# Perform t-test for each biomarker to test if levels differ between males and females\n",
    "for biomarker in biomarker_names:\n",
    "    male_values = merged_data[merged_data['Sex (1=male, 2=female)'] == 1][biomarker]\n",
    "    female_values = merged_data[merged_data['Sex (1=male, 2=female)'] == 2][biomarker]\n",
    "    \n",
    "    t_stat_male, _ = stats.ttest_1samp(male_values, 0)\n",
    "    t_stat_female, _ = stats.ttest_1samp(female_values, 0)\n",
    "    \n",
    "    male_t_values.append(t_stat_male)\n",
    "    female_t_values.append(t_stat_female)\n",
    "\n",
    "# Create an array of indexes to match the number of biomarkers\n",
    "index = np.arange(len(biomarker_names))\n",
    "bar_width = 0.35\n",
    "opacity = 0.8\n",
    "\n",
    "# Create a bar graph\n",
    "fig, ax = plt.subplots(figsize=(10, 6))\n",
    "\n",
    "# Plot the T-statistic values for males and females for each biomarker\n",
    "plt.bar(index, male_t_values, bar_width, alpha=opacity, color='blue', label='Male')\n",
    "plt.bar(index + bar_width, female_t_values, bar_width, alpha=opacity, color='pink', label='Female')\n",
    "\n",
    "# Label the axes\n",
    "plt.xlabel('Biomarkers')\n",
    "plt.ylabel('T-statistic(Mean Difference)')\n",
    "plt.title('T-statistic Values for Biomarkers in Males and Females')\n",
    "plt.xticks(index + bar_width/2, biomarker_names)\n",
    "plt.legend()\n",
    "\n",
    "# Show the graph\n",
    "plt.tight_layout()\n",
    "plt.show()\n"
   ]
  },
  {
   "cell_type": "code",
   "execution_count": 16,
   "id": "54193e1b",
   "metadata": {},
   "outputs": [],
   "source": [
    "#"
   ]
  },
  {
   "cell_type": "code",
   "execution_count": 61,
   "id": "5263d4e4",
   "metadata": {},
   "outputs": [],
   "source": [
    "#"
   ]
  },
  {
   "cell_type": "code",
   "execution_count": 17,
   "id": "5c6f2513",
   "metadata": {},
   "outputs": [
    {
     "name": "stdout",
     "output_type": "stream",
     "text": [
      "Probability of making at least one Type I error: 0.3698\n"
     ]
    }
   ],
   "source": [
    "#To Calculate the probability of making atleast one Type I error.\n",
    "def probability_of_type_i_error(alpha, num_tests):\n",
    "    \n",
    "    probability = 1 - (1 - alpha) ** num_tests\n",
    "    return probability\n",
    "\n",
    "# Set the significance level for a single test and the number of tests\n",
    "alpha = 0.05\n",
    "num_tests = 9  # Number of biomarkers\n",
    "\n",
    "# Calculate the probability of making at least one Type I error\n",
    "probability_type_i_error = probability_of_type_i_error(alpha, num_tests)\n",
    "\n",
    "# Print the result\n",
    "print(f\"Probability of making at least one Type I error: {probability_type_i_error:.4f}\")\n"
   ]
  },
  {
   "cell_type": "code",
   "execution_count": 18,
   "id": "18db0ee7",
   "metadata": {},
   "outputs": [
    {
     "name": "stdout",
     "output_type": "stream",
     "text": [
      "No statistically significant results found after Bonferroni correction.\n"
     ]
    }
   ],
   "source": [
    "#Bonferroni Correction \n",
    "import pandas as pd\n",
    "from scipy import stats\n",
    "\n",
    "# Load the data from covariates.xlsx and Biomarkers.xlsx\n",
    "covariates_data = pd.read_excel('covariates.xlsx')\n",
    "biomarkers_data = pd.read_excel('biomarkers.xlsx')\n",
    "\n",
    "# Merge the data frames using pd.concat\n",
    "merged_data = pd.concat([biomarkers_data, covariates_data], axis=1)\n",
    "\n",
    "# Define the biomarkers we want to test\n",
    "biomarker_names = ['IL-8', 'VEGF-A', 'OPG', 'TGF-beta-1', 'IL-6', 'CXCL9', 'CXCL1', 'IL-18', 'CSF-1']\n",
    "\n",
    "# Dictionary to store results\n",
    "results = {}\n",
    "\n",
    "# Significance level (before Bonferroni correction)\n",
    "alpha = 0.05\n",
    "\n",
    "# Number of tests (number of biomarkers)\n",
    "num_tests = len(biomarker_names)\n",
    "\n",
    "# Bonferroni-corrected significance level\n",
    "bonferroni_alpha = alpha / num_tests\n",
    "\n",
    "# Perform t-test for each biomarker to test if levels differ between males and females\n",
    "for biomarker in biomarker_names:\n",
    "    male_values = merged_data[merged_data['Sex (1=male, 2=female)'] == 1][biomarker]\n",
    "    female_values = merged_data[merged_data['Sex (1=male, 2=female)'] == 2][biomarker]\n",
    "    t_stat, p_value = stats.ttest_ind(male_values, female_values)\n",
    "    \n",
    "    # Check significance with Bonferroni correction\n",
    "    if p_value < bonferroni_alpha:\n",
    "        results[biomarker] = {\n",
    "            't-statistic': t_stat,\n",
    "            'p-value (Bonferroni corrected)': p_value\n",
    "        }\n",
    "\n",
    "# Display the results if no significant results were found\n",
    "if len(results) > 0:\n",
    "    for biomarker, result in results.items():\n",
    "        print(f\"Results for {biomarker}:\")\n",
    "        print(f\"  t-statistic: {result['t-statistic']}\")\n",
    "        print(f\"  p-value (Bonferroni corrected): {result['p-value (Bonferroni corrected)']}\")\n",
    "else:\n",
    "    print(\"No statistically significant results found after Bonferroni correction.\")\n"
   ]
  },
  {
   "cell_type": "code",
   "execution_count": 1,
   "id": "80630fe5",
   "metadata": {},
   "outputs": [],
   "source": [
    "#"
   ]
  },
  {
   "cell_type": "code",
   "execution_count": 2,
   "id": "68ae1120",
   "metadata": {},
   "outputs": [],
   "source": [
    "#"
   ]
  },
  {
   "cell_type": "code",
   "execution_count": 3,
   "id": "782cb985",
   "metadata": {},
   "outputs": [],
   "source": [
    "#"
   ]
  },
  {
   "cell_type": "code",
   "execution_count": 4,
   "id": "00787625",
   "metadata": {},
   "outputs": [],
   "source": [
    "#"
   ]
  },
  {
   "cell_type": "code",
   "execution_count": 19,
   "id": "5758662d",
   "metadata": {},
   "outputs": [
    {
     "name": "stdout",
     "output_type": "stream",
     "text": [
      "                            OLS Regression Results                            \n",
      "==============================================================================\n",
      "Dep. Variable:           Vas-12months   R-squared:                       0.143\n",
      "Model:                            OLS   Adj. R-squared:                  0.014\n",
      "Method:                 Least Squares   F-statistic:                     1.112\n",
      "Date:                Sun, 05 Nov 2023   Prob (F-statistic):              0.363\n",
      "Time:                        12:04:51   Log-Likelihood:                -228.55\n",
      "No. Observations:                  93   AIC:                             483.1\n",
      "Df Residuals:                      80   BIC:                             516.0\n",
      "Df Model:                          12                                         \n",
      "Covariance Type:            nonrobust                                         \n",
      "==========================================================================================\n",
      "                             coef    std err          t      P>|t|      [0.025      0.975]\n",
      "------------------------------------------------------------------------------------------\n",
      "const                     24.3438     14.324      1.700      0.093      -4.162      52.849\n",
      "IL-8                       0.1930      0.779      0.248      0.805      -1.358       1.744\n",
      "VEGF-A                    -1.9806      1.113     -1.780      0.079      -4.195       0.234\n",
      "OPG                       -1.8640      1.060     -1.759      0.082      -3.973       0.245\n",
      "TGF-beta-1                 1.6257      0.782      2.080      0.041       0.070       3.181\n",
      "IL-6                       0.3805      0.440      0.865      0.389      -0.494       1.255\n",
      "CXCL9                      0.9089      0.784      1.159      0.250      -0.652       2.470\n",
      "CXCL1                     -0.7004      0.494     -1.418      0.160      -1.684       0.283\n",
      "IL-18                      0.7164      0.814      0.880      0.381      -0.903       2.336\n",
      "CSF-1                      0.2324      1.613      0.144      0.886      -2.978       3.443\n",
      "Age                       -0.0008      0.033     -0.023      0.982      -0.067       0.065\n",
      "Sex (1=male, 2=female)     0.0921      0.672      0.137      0.891      -1.246       1.430\n",
      "Smoker (1=yes, 2=no)      -0.8931      0.718     -1.245      0.217      -2.321       0.535\n",
      "==============================================================================\n",
      "Omnibus:                        9.258   Durbin-Watson:                   1.862\n",
      "Prob(Omnibus):                  0.010   Jarque-Bera (JB):                4.058\n",
      "Skew:                           0.244   Prob(JB):                        0.131\n",
      "Kurtosis:                       2.101   Cond. No.                     2.25e+03\n",
      "==============================================================================\n",
      "\n",
      "Notes:\n",
      "[1] Standard Errors assume that the covariance matrix of the errors is correctly specified.\n",
      "[2] The condition number is large, 2.25e+03. This might indicate that there are\n",
      "strong multicollinearity or other numerical problems.\n"
     ]
    }
   ],
   "source": [
    "#TASK 2 : REGRESSION MODELLING \n",
    "#Model used : Linear Regression model\n",
    "import pandas as pd\n",
    "import numpy as np\n",
    "import statsmodels.api as sm\n",
    "\n",
    "# Load the data from covariates.xlsx and biomarkers.xlsx\n",
    "covariates_data = pd.read_excel('covariates.xlsx')\n",
    "biomarkers_data = pd.read_excel('biomarkers.xlsx')\n",
    "\n",
    "# Merge the data frames using pd.concat function.\n",
    "merged_data = pd.concat([biomarkers_data, covariates_data], axis=1)\n",
    "\n",
    "# Select 80% of the patients for training.\n",
    "train_data = merged_data.sample(frac=0.8, random_state=1)\n",
    "\n",
    "# Handle missing values (remove rows with missing values)\n",
    "train_data = train_data.dropna()\n",
    "\n",
    "# Check for and handle infinite values\n",
    "train_data = train_data.replace([np.inf, -np.inf], np.nan).dropna()\n",
    "\n",
    "# Define the response variable(Y) and explanatory variables(in array X)\n",
    "y = train_data['Vas-12months']\n",
    "X = train_data[['IL-8', 'VEGF-A', 'OPG', 'TGF-beta-1', 'IL-6', 'CXCL9', 'CXCL1', 'IL-18', 'CSF-1', 'Age','Sex (1=male, 2=female)','Smoker (1=yes, 2=no)']]\n",
    "\n",
    "# Add a constant term for the intercept\n",
    "X = sm.add_constant(X)\n",
    "\n",
    "# Fit a linear regression model\n",
    "model = sm.OLS(y, X).fit()\n",
    "\n",
    "# Print the summary of the model\n",
    "print(model.summary())\n"
   ]
  },
  {
   "cell_type": "code",
   "execution_count": 20,
   "id": "ef553b21",
   "metadata": {},
   "outputs": [
    {
     "name": "stdout",
     "output_type": "stream",
     "text": [
      "Mean Squared Error (MSE): 10.013014866788206\n",
      "Root Mean Squared Error (RMSE): 3.1643348221685086\n",
      "R-squared (R2): -0.32975271617169466\n",
      "     Actual  Predicted\n",
      "85      2.0   4.103642\n",
      "4       5.0   2.612027\n",
      "44      4.0   2.140638\n",
      "42      9.0   4.618990\n",
      "10      1.4   2.339021\n",
      "49      3.5   1.027209\n",
      "112     0.0   4.533303\n",
      "37      0.0   1.901423\n",
      "72      4.0   7.016112\n",
      "11      3.5   3.447904\n",
      "47      9.0   3.468006\n",
      "26      0.5   1.692030\n",
      "96      0.0   4.013749\n",
      "55      3.0   6.492734\n",
      "18      3.5   5.363979\n",
      "0       4.0   3.826295\n",
      "58      5.0   1.325075\n",
      "87      9.0   2.021905\n",
      "111     0.0   3.924568\n",
      "102     4.0   3.586047\n",
      "95      1.3   2.637533\n",
      "90      3.6   3.418178\n",
      "69      6.5   4.741144\n",
      "12      1.1   5.654763\n"
     ]
    }
   ],
   "source": [
    "#Part C : making predictions using the fitted regression model and evaluate the model's performance on the remaining 20% of the patients' data.\n",
    "import pandas as pd\n",
    "import numpy as np\n",
    "import statsmodels.api as sm\n",
    "from sklearn.model_selection import train_test_split\n",
    "from sklearn.metrics import mean_squared_error, r2_score\n",
    "\n",
    "# Load the data from covariates.xlsx and Biomarkers.xlsx\n",
    "covariates_data = pd.read_excel('covariates.xlsx')\n",
    "biomarkers_data = pd.read_excel('biomarkers.xlsx')\n",
    "\n",
    "# Merge the data frames using pd.concat\n",
    "merged_data = pd.concat([biomarkers_data, covariates_data], axis=1)\n",
    "\n",
    "# Drop rows with missing values\n",
    "merged_data.dropna(inplace=True)\n",
    "\n",
    "# Define the response variable and explanatory variables\n",
    "y = merged_data['Vas-12months']\n",
    "X = merged_data[['IL-8', 'VEGF-A', 'OPG', 'TGF-beta-1', 'IL-6', 'CXCL9', 'CXCL1', 'IL-18', 'CSF-1', 'Age', 'Sex (1=male, 2=female)', 'Smoker (1=yes, 2=no)']]\n",
    "\n",
    "# Split the data into training (80%) and testing (20%) sets\n",
    "X_train, X_test, y_train, y_test = train_test_split(X, y, test_size=0.2, random_state=42)\n",
    "\n",
    "# Add a constant term for the intercept\n",
    "X_train = sm.add_constant(X_train)\n",
    "X_test = sm.add_constant(X_test)\n",
    "\n",
    "# Fit the linear regression model\n",
    "model = sm.OLS(y_train, X_train).fit()\n",
    "\n",
    "# Make predictions on the test data\n",
    "predictions = model.predict(X_test)\n",
    "\n",
    "# Evaluate the model\n",
    "mse = mean_squared_error(y_test, predictions)\n",
    "rmse = np.sqrt(mse)\n",
    "r2 = r2_score(y_test, predictions)\n",
    "\n",
    "# Print evaluation metrics\n",
    "print(f\"Mean Squared Error (MSE): {mse}\")\n",
    "print(f\"Root Mean Squared Error (RMSE): {rmse}\")\n",
    "print(f\"R-squared (R2): {r2}\")\n",
    "\n",
    "# Compare predicted and actual values\n",
    "comparison_df = pd.DataFrame({'Actual': y_test, 'Predicted': predictions})\n",
    "print(comparison_df)\n"
   ]
  },
  {
   "cell_type": "code",
   "execution_count": 7,
   "id": "a548628f",
   "metadata": {},
   "outputs": [],
   "source": [
    "#\n"
   ]
  },
  {
   "cell_type": "code",
   "execution_count": 6,
   "id": "7a1c08bd",
   "metadata": {},
   "outputs": [
    {
     "data": {
      "image/png": "[encoded data removed]",
      "text/plain": [
       "<Figure size 1000x600 with 1 Axes>"
      ]
     },
     "metadata": {},
     "output_type": "display_data"
    }
   ],
   "source": [
    "#Plot for showing actual vs predicted values.\n",
    "import matplotlib.pyplot as plt\n",
    "\n",
    "# Actual and Predicted values\n",
    "actual = [2.0, 5.0, 4.0, 9.0, 1.4, 3.5, 0.0, 0.0, 4.0, 3.5, 9.0, 0.5, 0.0, 3.0, 3.5, 4.0, 5.0, 9.0, 0.0, 4.0, 1.3, 3.6, 6.5, 1.1]\n",
    "predicted = [4.103642, 2.612027, 2.140638, 4.618990, 2.339021, 1.027209, 4.533303, 1.901423, 7.016112, 3.447904, 3.468006, 1.692030, 4.013749, 6.492734, 5.363979, 3.826295, 1.325075, 2.021905, 3.924568, 3.586047, 2.637533, 3.418178, 4.741144, 5.654763]\n",
    "\n",
    "# Create a scatter plot\n",
    "plt.figure(figsize=(10, 6))\n",
    "plt.scatter(actual, predicted, color='blue', alpha=0.7, label='Data Points')\n",
    "plt.title(\"Actual vs. Predicted Values\")\n",
    "plt.xlabel(\"Actual Values\")\n",
    "plt.ylabel(\"Predicted Values\")\n",
    "\n",
    "# Add a diagonal line for reference (perfect prediction)\n",
    "plt.plot([min(actual), max(actual)], [min(actual), max(actual)], linestyle='--', color='gray', label='Perfect Prediction')\n",
    "\n",
    "# Add a legend\n",
    "plt.legend()\n",
    "\n",
    "plt.show()\n"
   ]
  },
  {
   "cell_type": "code",
   "execution_count": null,
   "id": "a1c12b63",
   "metadata": {},
   "outputs": [],
   "source": []
  }
 ],
 "metadata": {
  "kernelspec": {
   "display_name": "Python 3 (ipykernel)",
   "language": "python",
   "name": "python3"
  },
  "language_info": {
   "codemirror_mode": {
    "name": "ipython",
    "version": 3
   },
   "file_extension": ".py",
   "mimetype": "text/x-python",
   "name": "python",
   "nbconvert_exporter": "python",
   "pygments_lexer": "ipython3",
   "version": "3.9.13"
  }
 },
 "nbformat": 4,
 "nbformat_minor": 5
}
